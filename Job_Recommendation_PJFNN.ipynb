{
  "nbformat": 4,
  "nbformat_minor": 0,
  "metadata": {
    "colab": {
      "private_outputs": true,
      "provenance": [],
      "machine_shape": "hm",
      "gpuType": "A100"
    },
    "kernelspec": {
      "name": "python3",
      "display_name": "Python 3"
    },
    "language_info": {
      "name": "python"
    },
    "accelerator": "GPU"
  },
  "cells": [
    {
      "cell_type": "code",
      "execution_count": null,
      "metadata": {
        "id": "SBuri3iEMdmX"
      },
      "outputs": [],
      "source": [
        "import pandas as pd\n",
        "import numpy as np\n",
        "import nltk\n",
        "from nltk import word_tokenize, pos_tag\n",
        "from nltk.stem import  WordNetLemmatizer\n",
        "from nltk.corpus import stopwords\n",
        "\n",
        "from gensim.models import Word2Vec\n",
        "\n",
        "from tqdm import tqdm\n",
        "import time\n",
        "\n",
        "from sklearn.feature_extraction.text import TfidfVectorizer\n",
        "from sklearn.metrics import accuracy_score, roc_auc_score, recall_score, precision_score, f1_score, classification_report\n",
        "\n",
        "import torch\n",
        "from torch.utils import data\n",
        "import torch.nn as nn\n",
        "import torch.optim as optim\n",
        "from torch.utils.data import DataLoader"
      ]
    },
    {
      "cell_type": "markdown",
      "source": [
        "# 1. Load the data and perform word segmentation"
      ],
      "metadata": {
        "id": "KvVcIwZNNDD2"
      }
    },
    {
      "cell_type": "code",
      "source": [
        "job_set = pd.read_csv(\"/content/drive/MyDrive/clean data/job_set_cleaned.csv\")"
      ],
      "metadata": {
        "id": "wwmJGo4FNsOd"
      },
      "execution_count": null,
      "outputs": []
    },
    {
      "cell_type": "code",
      "source": [
        "job_set"
      ],
      "metadata": {
        "id": "8PphU1BfNwcT"
      },
      "execution_count": null,
      "outputs": []
    },
    {
      "cell_type": "code",
      "source": [
        "# job_set = pd.read_csv(\"job_set_cleaned.csv\")\n",
        "user_set = pd.read_csv(\"/content/drive/MyDrive/pfnn/our_reduced_df.csv\")\n",
        "dataset = pd.read_csv(\"/content/drive/MyDrive/clean data/dataset_cleaned.csv\")\n",
        "work_history = pd.read_csv(\"/content/drive/MyDrive/clean data/work_history_cleaned.csv\")"
      ],
      "metadata": {
        "id": "RDs1_FGbNBfj"
      },
      "execution_count": null,
      "outputs": []
    },
    {
      "cell_type": "code",
      "source": [
        "import nltk\n",
        "nltk.download('stopwords')"
      ],
      "metadata": {
        "id": "K_s9nFgrNk3J"
      },
      "execution_count": null,
      "outputs": []
    },
    {
      "cell_type": "code",
      "source": [
        "nltk.download('punkt')\n",
        "nltk.download('averaged_perceptron_tagger')\n",
        "nltk.download('wordnet')"
      ],
      "metadata": {
        "id": "OmRiuM8aN5QB"
      },
      "execution_count": null,
      "outputs": []
    },
    {
      "cell_type": "code",
      "source": [
        "punctuation=list('。，？！：%&~（）、；“”&|,.?!:%&~();\"\"#@【】/-\\'$+*`[]{}()')\n",
        "stop_words = stopwords.words(\"english\")\n",
        "stop_words.extend([\"n't\",\"wo\",\"'m\",\"'s\",\"'ve\", \"'d\", \"'ll\", \"``\", \"''\", \"--\", \"...\"])\n",
        "stop_words.extend(punctuation)\n",
        "wordnet_lematizer = WordNetLemmatizer()\n",
        "\n",
        "def pretreatment(comment):\n",
        "    '''\n",
        "    remove punctuations, numbers and urls\n",
        "    lower case conversion\n",
        "    remove stop words\n",
        "    lemmatization\n",
        "    '''\n",
        "\n",
        "    token_words = word_tokenize(comment)\n",
        "    token_words = [w.lower() for w in token_words]\n",
        "    token_words = [w for w in token_words if w not in stop_words]\n",
        "    token_words =  pos_tag(token_words)\n",
        "    cleaned_word = []\n",
        "    for word, tag in token_words:\n",
        "        if word.isdigit():\n",
        "            continue\n",
        "        if tag.startswith('NN'):\n",
        "            word_lematizer =  wordnet_lematizer.lemmatize(word, pos='n')  # n for noun\n",
        "        elif tag.startswith('VB'):\n",
        "            word_lematizer =  wordnet_lematizer.lemmatize(word, pos='v')   # v for verb\n",
        "        elif tag.startswith('JJ'):\n",
        "            word_lematizer =  wordnet_lematizer.lemmatize(word, pos='a')   # a for adjective\n",
        "        elif tag.startswith('R'):\n",
        "            word_lematizer =  wordnet_lematizer.lemmatize(word, pos='r')   # r for pronoun\n",
        "        else:\n",
        "            word_lematizer =  wordnet_lematizer.lemmatize(word)\n",
        "        cleaned_word.append(word_lematizer)\n",
        "\n",
        "    return cleaned_word"
      ],
      "metadata": {
        "id": "Lo7cYBGrNhaX"
      },
      "execution_count": null,
      "outputs": []
    },
    {
      "cell_type": "code",
      "source": [
        "segment=[]\n",
        "job_set = job_set.fillna(\"\")\n",
        "job_set[\"word\"] = job_set.Title + job_set.Description + job_set.Requirements\n",
        "for content in tqdm(job_set[\"word\"].values):\n",
        "    segment.append(pretreatment(content))\n",
        "job_set[\"text\"] = segment"
      ],
      "metadata": {
        "id": "emD2tcYjNnmV"
      },
      "execution_count": null,
      "outputs": []
    },
    {
      "cell_type": "code",
      "source": [
        "job_set"
      ],
      "metadata": {
        "id": "OMoo9Fj4OD_D"
      },
      "execution_count": null,
      "outputs": []
    },
    {
      "cell_type": "code",
      "source": [
        "job_set.to_csv(\"job_set_segment.csv\",index=False)"
      ],
      "metadata": {
        "id": "q0EPiR01OCje"
      },
      "execution_count": null,
      "outputs": []
    },
    {
      "cell_type": "markdown",
      "source": [
        "# 2. Train a Word2Vec model based on our data"
      ],
      "metadata": {
        "id": "XfzEjw28a6Vu"
      }
    },
    {
      "cell_type": "code",
      "source": [
        "from gensim.models import word2vec, Word2Vec\n",
        "\n",
        "def train_word2vec(x):\n",
        "    '''\n",
        "    param: x is a list contain all the words\n",
        "    return: the trained model\n",
        "    '''\n",
        "\n",
        "    model = word2vec.Word2Vec(x, vector_size=200, window=5, min_count=2, workers=8,\n",
        "                             epochs=10, sg=1)\n",
        "    return model"
      ],
      "metadata": {
        "id": "vP6zOXWoa4Z9"
      },
      "execution_count": null,
      "outputs": []
    },
    {
      "cell_type": "code",
      "source": [
        "# 20-30min\n",
        "w2v_model = train_word2vec(job_set.text.values)\n",
        "w2v_model.save('./word2vec.model')"
      ],
      "metadata": {
        "id": "tCtWW5jJa971"
      },
      "execution_count": null,
      "outputs": []
    },
    {
      "cell_type": "code",
      "source": [
        "# TF-IDF vectors for user job history\n",
        "word_history_tf = TfidfVectorizer(analyzer='word',ngram_range=(1, 2),min_df=0, max_features=50, stop_words='english')\n",
        "word_history_tf_matrix = word_history_tf.fit_transform(work_history.groupby(\"UserID\").JobTitle.sum().values)"
      ],
      "metadata": {
        "id": "LbywP9MDnTS6"
      },
      "execution_count": null,
      "outputs": []
    },
    {
      "cell_type": "markdown",
      "source": [
        "# 3. Define a class for preprocessing"
      ],
      "metadata": {
        "id": "f3SzDtLHnbrk"
      }
    },
    {
      "cell_type": "code",
      "source": [
        "class Preprocess():\n",
        "    def __init__(self, sentences, sen_len, w2v_path=\"./w2v.model\"):\n",
        "        '''\n",
        "        param: sentences: the list of corpus\n",
        "               sen_len: the max length of each sentence\n",
        "               w2v_path: the path storing word emnbedding model\n",
        "        '''\n",
        "\n",
        "        self.w2v_path = w2v_path\n",
        "        self.sentences = sentences\n",
        "        self.sen_len = sen_len\n",
        "        self.idx2word = []\n",
        "        self.word2idx = {}\n",
        "        self.embedding_matrix = []\n",
        "\n",
        "    def get_w2v_model(self):\n",
        "        self.embedding = Word2Vec.load(self.w2v_path)\n",
        "        self.embedding_dim = self.embedding.vector_size\n",
        "\n",
        "    def add_embedding(self, word):\n",
        "        vector = torch.empty(1, self.embedding_dim)\n",
        "        torch.nn.init.uniform_(vector)\n",
        "        self.word2idx[word] = len(self.word2idx)\n",
        "        self.idx2word.append(word)\n",
        "        self.embedding_matrix = torch.cat([self.embedding_matrix, vector], 0)\n",
        "\n",
        "    def make_embedding(self, load=True):\n",
        "        print(\"Get embedding ...\")\n",
        "        if load:\n",
        "            print(\"loading word2vec model ...\")\n",
        "            self.get_w2v_model()\n",
        "        else:\n",
        "            raise NotImplementedError\n",
        "        for word in self.embedding.wv.key_to_index:\n",
        "            self.word2idx[word] = len(self.word2idx)\n",
        "            self.idx2word.append(word)\n",
        "            self.embedding_matrix.append(self.embedding.wv.get_vector(word))\n",
        "        self.embedding_matrix = torch.tensor(self.embedding_matrix)\n",
        "        self.add_embedding(\"\")\n",
        "        self.add_embedding(\"\")\n",
        "        print(\"total words: {}\".format(len(self.embedding_matrix)))\n",
        "        return self.embedding_matrix\n",
        "\n",
        "    def pad_sentence(self, sentence):\n",
        "        if len(sentence) > self.sen_len:\n",
        "            sentence = sentence[:self.sen_len]\n",
        "        else:\n",
        "            pad_len = self.sen_len - len(sentence)\n",
        "            for _ in range(pad_len):\n",
        "                sentence.append(self.word2idx[''])\n",
        "        assert len(sentence) == self.sen_len\n",
        "        return sentence\n",
        "\n",
        "    def sentence_word2idx(self):\n",
        "        '''\n",
        "        change words in sentences into idx in embedding_matrix\n",
        "        '''\n",
        "        sentence_list = []\n",
        "        for i, sen in enumerate(self.sentences):\n",
        "            sentence_idx = []\n",
        "            for word in sen:\n",
        "                if (word in self.word2idx.keys()):\n",
        "                    sentence_idx.append(self.word2idx[word])\n",
        "                else:\n",
        "                    sentence_idx.append(self.word2idx[''])\n",
        "            sentence_idx = self.pad_sentence(sentence_idx)\n",
        "            sentence_list.append(sentence_idx)\n",
        "        return torch.LongTensor(sentence_list)\n",
        "\n",
        "    def labels_to_tensor(self, y):\n",
        "        return torch.LongTensor(y)"
      ],
      "metadata": {
        "id": "5iV7l1j2nZyN"
      },
      "execution_count": null,
      "outputs": []
    },
    {
      "cell_type": "markdown",
      "source": [
        "# 4. Define the dataset and the architecture of the model"
      ],
      "metadata": {
        "id": "wsYoGoIqngPC"
      }
    },
    {
      "cell_type": "code",
      "source": [
        "class TextCNN(nn.Module):\n",
        "    def __init__(self, channels, kernel_size, pool_size, dim, method='max'):\n",
        "        super(TextCNN, self).__init__()\n",
        "        self.net1 = nn.Sequential(\n",
        "            nn.Conv2d(1, channels, kernel_size[0]),\n",
        "            nn.BatchNorm2d(channels),\n",
        "            nn.ReLU(),\n",
        "            nn.MaxPool2d(pool_size)\n",
        "        )\n",
        "        self.net2 = nn.Sequential(\n",
        "            nn.Conv2d(channels, channels, kernel_size[1]),\n",
        "            nn.BatchNorm2d(channels),\n",
        "            nn.ReLU(),\n",
        "            nn.AdaptiveMaxPool2d((1, dim))\n",
        "        )\n",
        "        if method is 'max':\n",
        "            self.pool = nn.AdaptiveMaxPool2d((1, dim))\n",
        "        elif method is 'mean':\n",
        "            self.pool = nn.AdaptiveAvgPool2d((1, dim))\n",
        "        else:\n",
        "            raise ValueError('method {} not exist'.format(method))\n",
        "\n",
        "    def forward(self, x):\n",
        "        x = self.net1(x)\n",
        "        x = self.net2(x).squeeze(2)\n",
        "        x = self.pool(x).squeeze(1)\n",
        "        return x\n"
      ],
      "metadata": {
        "id": "gQrchOuene3-"
      },
      "execution_count": null,
      "outputs": []
    },
    {
      "cell_type": "code",
      "source": [
        "class MLP(nn.Module):\n",
        "    def __init__(self, input_size, output_size, dropout):\n",
        "        super(MLP, self).__init__()\n",
        "        self.net = nn.Sequential(\n",
        "            nn.Dropout(dropout),\n",
        "            nn.Linear(input_size, input_size),\n",
        "            nn.ReLU(),\n",
        "            nn.Linear(input_size, output_size),\n",
        "            nn.Sigmoid()\n",
        "\n",
        "        )\n",
        "\n",
        "    def forward(self, x):\n",
        "        x = self.net(x)\n",
        "        return x"
      ],
      "metadata": {
        "id": "ku5tEFrunt1i"
      },
      "execution_count": null,
      "outputs": []
    },
    {
      "cell_type": "code",
      "source": [
        "class PJFNN(nn.Module):\n",
        "    def __init__(self, embedding, input_dim, channels=1, dropout=0.5, fix_embedding=True):\n",
        "        super(PJFNN, self).__init__()\n",
        "        self.dim = embedding.size(1)\n",
        "        self.user_dim = input_dim\n",
        "        self.channels = channels\n",
        "        self.embedding = nn.Embedding(embedding.size(0), embedding.size(1))\n",
        "        self.embedding.weight = nn.Parameter(embedding)\n",
        "        self.embedding.weight.requires_grad = False if fix_embedding else True\n",
        "        # self.emb = nn.Embedding.from_pretrained(\n",
        "        #    torch.from_numpy(np.load( os.path.join(args['dataset']['path'], 'emb.npy') )),\n",
        "        #    freeze=False,\n",
        "        #    padding_idx=0\n",
        "        #)\n",
        "\n",
        "        # self.geek_layer = TextCNN(\n",
        "        #     channels=args['dataset']['max_sent_num']['geek'],\n",
        "        #     kernel_size=[(5, 1), (3, 1)],\n",
        "        #     pool_size=(2, 1),\n",
        "        #     dim=dim,\n",
        "        #     method='max'\n",
        "        # )\n",
        "        self.user_layer = MLP(self.user_dim , 64, dropout=dropout)\n",
        "        self.linear_transform = nn.Linear(200, 64)\n",
        "        self.job_layer = TextCNN(\n",
        "            channels=self.channels,\n",
        "            kernel_size=[(5, 1), (5, 1)],\n",
        "            pool_size=(2, 1),\n",
        "            dim=200,\n",
        "            method='mean'\n",
        "        )\n",
        "\n",
        "        self.mlp = MLP(\n",
        "            input_size=128,\n",
        "            output_size=1,\n",
        "            dropout=dropout\n",
        "        )\n",
        "\n",
        "\n",
        "    def forward(self, job, user):\n",
        "        job = self.embedding(job)\n",
        "        job = job.unsqueeze(1)\n",
        "        job = self.job_layer(job)\n",
        "        user = self.user_layer(user)\n",
        "        job = self.linear_transform(job)\n",
        "        x = torch.cat((user,job),dim=1)\n",
        "        x = self.mlp(x).squeeze(1)\n",
        "        return x"
      ],
      "metadata": {
        "id": "p1cJ8YHXnwFg"
      },
      "execution_count": null,
      "outputs": []
    },
    {
      "cell_type": "code",
      "source": [
        "class PJFNN_LSTM(nn.Module):\n",
        "    def __init__(self, embedding, input_dim, hidden_dim=256, num_layers=1, dropout=0., fix_embedding=True):\n",
        "        super(PJFNN_LSTM, self).__init__()\n",
        "        self.embedding_dim = embedding.size(1)\n",
        "        self.user_dim = input_dim\n",
        "        self.embedding = nn.Embedding(embedding.size(0), embedding.size(1))\n",
        "        self.embedding.weight = nn.Parameter(embedding)\n",
        "        self.embedding.weight.requires_grad = False if fix_embedding else True\n",
        "        # self.emb = nn.Embedding.from_pretrained(\n",
        "        #    torch.from_numpy(np.load( os.path.join(args['dataset']['path'], 'emb.npy') )),\n",
        "        #    freeze=False,\n",
        "        #    padding_idx=0\n",
        "        #)\n",
        "\n",
        "        # self.geek_layer = TextCNN(\n",
        "        #     channels=args['dataset']['max_sent_num']['geek'],\n",
        "        #     kernel_size=[(5, 1), (3, 1)],\n",
        "        #     pool_size=(2, 1),\n",
        "        #     dim=dim,\n",
        "        #     method='max'\n",
        "        # )\n",
        "        self.user_layer = MLP(self.user_dim , 64, dropout=dropout)\n",
        "        self.linear_transform = nn.Linear(256, 64)\n",
        "        self.job_layer = nn.LSTM(self.embedding_dim, hidden_dim, num_layers=num_layers, batch_first=True, dropout=dropout)\n",
        "\n",
        "        self.classifier = nn.Sequential(nn.Dropout(dropout), nn.Linear(128, 1), nn.Sigmoid())\n",
        "\n",
        "\n",
        "    def forward(self, job, user):\n",
        "        job = self.embedding(job)\n",
        "        job, _ = self.job_layer(job, None)\n",
        "        job = job[:,-1,:]\n",
        "        user = self.user_layer(user)\n",
        "        job = self.linear_transform(job)\n",
        "        x = torch.cat((user,job),dim=1)\n",
        "        x = self.classifier(x).squeeze(1)\n",
        "        return x\n"
      ],
      "metadata": {
        "id": "wRYGHVuHnxtt"
      },
      "execution_count": null,
      "outputs": []
    },
    {
      "cell_type": "code",
      "source": [
        "\n",
        "class JobUserDataset(data.Dataset):\n",
        "    '''\n",
        "    Expected data shape like:(data_num, data_len)\n",
        "    '''\n",
        "    def __init__(self, job, user, label):\n",
        "        self.job = job\n",
        "        self.user = user\n",
        "        self.label = label\n",
        "\n",
        "    def __getitem__(self, idx):\n",
        "        if self.label is None: return self.job[idx], self.user[idx]\n",
        "        return self.job[idx], self.user[idx], self.label[idx]\n",
        "\n",
        "    def __len__(self):\n",
        "        return len(self.job)"
      ],
      "metadata": {
        "id": "ouycd84InziA"
      },
      "execution_count": null,
      "outputs": []
    },
    {
      "cell_type": "code",
      "source": [
        "class JobUserDataset(data.Dataset):\n",
        "    '''\n",
        "    Expected data shape like:(data_num, data_len)\n",
        "    '''\n",
        "    def __init__(self, job, user, label):\n",
        "        self.job = job\n",
        "        self.user = user\n",
        "        self.label = label\n",
        "\n",
        "    def __getitem__(self, idx):\n",
        "      assert 0 <= idx < len(self.job), \"Index out of range\"\n",
        "      if self.label is None: return self.job[idx], self.user[idx]\n",
        "      return self.job[idx], self.user[idx], self.label[idx]\n",
        "\n",
        "    def __len__(self):\n",
        "        return len(self.job)"
      ],
      "metadata": {
        "id": "yxhN-mWT47tU"
      },
      "execution_count": null,
      "outputs": []
    },
    {
      "cell_type": "markdown",
      "source": [
        "# 5. Build datasets"
      ],
      "metadata": {
        "id": "iU2ozpy6n29X"
      }
    },
    {
      "cell_type": "code",
      "source": [
        "user_set"
      ],
      "metadata": {
        "id": "lJlRxwxQ7EpM"
      },
      "execution_count": null,
      "outputs": []
    },
    {
      "cell_type": "code",
      "source": [
        "train_user = user_set[user_set.Split==\"Train\"].UserID.values\n",
        "test_user = user_set[user_set.Split==\"Test\"].UserID.values\n",
        "train_data = dataset[dataset.UserID.isin(train_user)]\n",
        "test_data = dataset[dataset.UserID.isin(test_user)]"
      ],
      "metadata": {
        "id": "LX6_j5E-n1lt"
      },
      "execution_count": null,
      "outputs": []
    },
    {
      "cell_type": "code",
      "source": [
        "job_set = pd.read_csv(\"/content/drive/MyDrive/final/job_set_segment.csv\")\n",
        "text = []\n",
        "for i in job_set.text:\n",
        "    temp = i[1:-1].split(',')\n",
        "    text.append([t.strip()[1:-1] for t in temp])\n",
        "job_set[\"text\"] = text"
      ],
      "metadata": {
        "id": "rFQm6pkWn5oW"
      },
      "execution_count": null,
      "outputs": []
    },
    {
      "cell_type": "code",
      "source": [
        "groups = train_data.groupby(\"UserID\")\n",
        "job_train = []\n",
        "user_train = np.zeros((1,58))\n",
        "Y_train = []\n",
        "for u_id, group in tqdm(groups):\n",
        "    user = user_set[user_set.UserID==u_id][[\"DegreeType\", \"WorkHistoryCount\", \"TotalYearsExperience\", \"CurrentlyEmployed\",\n",
        "                                            \"ManagedOthers\", \"ManagedHowMany\"]]\n",
        "    u_idx = user.index.values[0]\n",
        "    user_feature = np.concatenate((user.values, word_history_tf_matrix[u_idx,:].toarray()),axis=1)\n",
        "    job_id_list = group.JobID.values\n",
        "    jobs = job_set[job_set.JobID.isin(job_id_list)]\n",
        "    job_train.extend(jobs.text.values.tolist())\n",
        "    user_feature = user_feature.repeat(len(jobs),axis=0)\n",
        "    user_feature = np.concatenate((user_feature,group[[\"State\",\"City\"]].values),axis=1)\n",
        "    user_train = np.concatenate((user_train,user_feature), axis=0)\n",
        "    Y_train.extend(group.label.values.tolist())"
      ],
      "metadata": {
        "id": "PieVSnjNn7s2"
      },
      "execution_count": null,
      "outputs": []
    },
    {
      "cell_type": "code",
      "source": [
        "groups = test_data.groupby(\"UserID\")\n",
        "job_test = []\n",
        "user_test = np.zeros((1,58))\n",
        "Y_test = []\n",
        "for u_id, group in tqdm(groups):\n",
        "    user = user_set[user_set.UserID==u_id][[\"DegreeType\", \"WorkHistoryCount\", \"TotalYearsExperience\", \"CurrentlyEmployed\",\n",
        "                                            \"ManagedOthers\", \"ManagedHowMany\"]]\n",
        "    u_idx = user.index.values[0]\n",
        "    user_feature = np.concatenate((user.values, word_history_tf_matrix[u_idx,:].toarray()),axis=1)\n",
        "    job_id_list = group.JobID.values\n",
        "    jobs = job_set[job_set.JobID.isin(job_id_list)]\n",
        "    job_test.extend(jobs.text.values.tolist())\n",
        "    user_feature = user_feature.repeat(len(jobs),axis=0)\n",
        "    user_feature = np.concatenate((user_feature,group[[\"State\",\"City\"]].values),axis=1)\n",
        "    user_test = np.concatenate((user_test,user_feature), axis=0)\n",
        "    Y_test.extend(group.label.values.tolist())"
      ],
      "metadata": {
        "id": "kQnm2MUQosAa"
      },
      "execution_count": null,
      "outputs": []
    },
    {
      "cell_type": "code",
      "source": [
        "user_train[1]"
      ],
      "metadata": {
        "id": "yjdHzNvRIKEX"
      },
      "execution_count": null,
      "outputs": []
    },
    {
      "cell_type": "code",
      "source": [
        "train_len = len(job_train)\n",
        "job_train.extend(job_test)\n",
        "Y_train.extend(Y_test)\n",
        "sen_len = 200\n",
        "preprocess = Preprocess(job_train, sen_len, w2v_path=\"/content/drive/MyDrive/pfnn/word2vec.model\")\n",
        "embedding = preprocess.make_embedding(load=True)\n",
        "x = preprocess.sentence_word2idx()\n",
        "y = preprocess.labels_to_tensor(Y_train)\n",
        "torch.save(embedding,\"./embedding.pt\")"
      ],
      "metadata": {
        "id": "8VT68Ud4ozzX"
      },
      "execution_count": null,
      "outputs": []
    },
    {
      "cell_type": "code",
      "source": [
        "x[1].shape"
      ],
      "metadata": {
        "id": "fIxnYCuMIpvZ"
      },
      "execution_count": null,
      "outputs": []
    },
    {
      "cell_type": "code",
      "source": [
        "train_x = x[:70000]\n",
        "train_y = y[:70000]\n",
        "val_x = x[70000:70680]\n",
        "val_y = y[70000:70680]\n",
        "test_x = x[70680:]\n",
        "test_y = y[70680:]\n",
        "train_user = torch.from_numpy(user_train[1:70001])\n",
        "val_user = torch.from_numpy(user_train[70001:])\n",
        "test_user = torch.from_numpy(user_test[1:])\n",
        "train_dataset = JobUserDataset(train_x, train_user, train_y)\n",
        "val_dataset = JobUserDataset(val_x, val_user, val_y)\n",
        "test_dataset = JobUserDataset(test_x, test_user, test_y)\n",
        "torch.save(train_dataset,\"train.dataset\")\n",
        "torch.save(val_dataset,\"val.dataset\")\n",
        "torch.save(test_dataset, \"test.dataset\")"
      ],
      "metadata": {
        "id": "w-hPc9PzsSWl"
      },
      "execution_count": null,
      "outputs": []
    },
    {
      "cell_type": "code",
      "source": [
        "train_x = x[:70000]\n",
        "train_y = y[:70000]\n",
        "val_x = x[70000:70680]\n",
        "val_y = y[70000:70680]\n",
        "test_x = x[70680:]\n",
        "test_y = y[70680:]\n",
        "train_user = torch.from_numpy(user_train[:70000])  # instead of user_train[1:70001]\n",
        "val_user = torch.from_numpy(user_train[70000:70680])  # instead of user_train[70001:]\n",
        "test_user = torch.from_numpy(user_test[:])  # instead of user_test[1:]\n",
        "train_dataset = JobUserDataset(train_x, train_user, train_y)\n",
        "val_dataset = JobUserDataset(val_x, val_user, val_y)\n",
        "test_dataset = JobUserDataset(test_x, test_user, test_y)"
      ],
      "metadata": {
        "id": "cJqa55mP525f"
      },
      "execution_count": null,
      "outputs": []
    },
    {
      "cell_type": "code",
      "source": [
        "train_dataset = torch.load(\"train.dataset\")\n",
        "val_dataset = torch.load(\"val.dataset\")\n",
        "test_dataset = torch.load(\"test.dataset\")\n",
        "embedding = torch.load(\"embedding.pt\")\n",
        "batch_size = 32\n",
        "train_loader = DataLoader(dataset= train_dataset, batch_size = batch_size, shuffle = False)\n",
        "val_loader = DataLoader(dataset = val_dataset, batch_size = batch_size, shuffle = False)\n",
        "test_loader =DataLoader(dataset = test_dataset, batch_size = batch_size, shuffle = False)"
      ],
      "metadata": {
        "id": "wuwpWGahsdvG"
      },
      "execution_count": null,
      "outputs": []
    },
    {
      "cell_type": "markdown",
      "source": [
        "# 6. Define functions for training and testing"
      ],
      "metadata": {
        "id": "6nSkf2l-shr0"
      }
    },
    {
      "cell_type": "code",
      "source": [
        "def training(batch_size, n_epoch, lr, train, valid, model, device, model_name, model_dir=\"./\"):\n",
        "    # summary model parameters\n",
        "    total = sum(p.numel() for p in model.parameters())\n",
        "    trainable = sum(p.numel() for p in model.parameters() if p.requires_grad)\n",
        "\n",
        "    print(\"\\nstart training, total parameter:{}, trainable:{}\\n\".format(total, trainable))\n",
        "    model.cuda()\n",
        "    model.train()\n",
        "    criterion = nn.BCELoss()\n",
        "    t_batch = len(train)\n",
        "    v_batch = len(valid)\n",
        "    optimizer = optim.Adam(model.parameters(), lr=lr)\n",
        "    total_loss, total_acc, best_acc = 0, 0, 0\n",
        "    train_losses, val_losses = [], []\n",
        "    train_acc, val_acc = [], []\n",
        "    pred_label = []\n",
        "    y_label = []\n",
        "\n",
        "    for epoch in range(n_epoch):\n",
        "        start_time = time.time()\n",
        "        total_loss, total_acc = 0, 0\n",
        "        # training\n",
        "        for i, (jobs, users, labels) in enumerate(train):\n",
        "            jobs = jobs.to(device)\n",
        "            users = users.to(torch.float32)\n",
        "            users = users.to(device)\n",
        "            labels = labels.to(device)\n",
        "            labels = labels.to(torch.float32)\n",
        "            model.zero_grad()\n",
        "            outputs = model(jobs, users)\n",
        "            loss = criterion(outputs, labels)\n",
        "            loss.backward()\n",
        "            optimizer.step()\n",
        "            total_loss += loss.item()\n",
        "            pred_label.extend([0 if i<0.5 else 1 for i in list(outputs.cpu().detach().numpy())])\n",
        "            y_label.extend(list(labels.cpu().detach().numpy()))\n",
        "        train_losses.append(total_loss/t_batch)\n",
        "        train_acc.append(accuracy_score(y_label, pred_label))\n",
        "        print('[ Epoch{}: {}/{}] '.format(\n",
        "                epoch+1, i+1, t_batch))\n",
        "        print('\\nTrain | Loss:{:.5f} Time:{:.6f}'.format(total_loss/t_batch, time.time()-start_time))\n",
        "\n",
        "        # evaluation\n",
        "        model.eval()\n",
        "        with torch.no_grad():\n",
        "            pred_label = []\n",
        "            y_label = []\n",
        "            total_loss, total_acc = 0, 0\n",
        "            for i, (jobs, users, labels) in enumerate(valid):\n",
        "                jobs = jobs.to(device)\n",
        "                users = users.to(torch.float32)\n",
        "                users = users.to(device)\n",
        "                labels = labels.to(torch.float32)\n",
        "                labels = labels.to(device)\n",
        "                outputs = model(jobs, users)\n",
        "                loss = criterion(outputs, labels)\n",
        "                total_loss += loss.item()\n",
        "                pred_label.extend([0 if i<0.5 else 1 for i in list(outputs.cpu().detach().numpy())])\n",
        "                y_label.extend(list(labels.cpu().detach().numpy()))\n",
        "            # print('\\nVal | Loss:{:.5f} Time:{:.6f}'.format(total_loss/v_batch, time.time()-start_time))\n",
        "            val_losses.append(total_loss/v_batch)\n",
        "            total_acc =  accuracy_score(y_label, pred_label)\n",
        "            val_acc.append(total_acc)\n",
        "            print('\\nVal | ACC:{:.5f} Time:{:.6f}'.format(total_acc, time.time()-start_time))\n",
        "            if total_acc > best_acc:\n",
        "                best_acc = total_acc\n",
        "                torch.save(model, \"{}/{}_ckpt.model\".format(model_dir, model_name))\n",
        "                print('save model with acc {:.3f}'.format(total_acc))\n",
        "        print('------------------------------------------------------')\n",
        "        model.train()\n",
        "    return train_losses, val_losses, train_acc, val_acc"
      ],
      "metadata": {
        "id": "Zwrzd6xIsf2Q"
      },
      "execution_count": null,
      "outputs": []
    },
    {
      "cell_type": "code",
      "source": [
        "def test(model, loader):\n",
        "    predictions = []\n",
        "    y_labels = []\n",
        "    pred = []\n",
        "    model.eval()\n",
        "    for i, (jobs, users, labels) in enumerate(loader):\n",
        "        jobs = jobs.to(device)\n",
        "        users = users.to(device, dtype=torch.float32)\n",
        "        labels = labels.to(device, dtype=torch.float32)\n",
        "        outputs = model(jobs, users)\n",
        "        pred.extend(list(outputs.cpu().detach().numpy()))\n",
        "        predictions.extend([0 if i<0.5 else 1 for i in list(outputs.cpu().detach().numpy())])\n",
        "        y_labels.extend(list(labels.cpu().detach().numpy()))\n",
        "        report = classification_report(y_labels,predictions,digits=4)\n",
        "    report = report.splitlines()\n",
        "    columns = ['class'] + report[0].split()\n",
        "    col_1, col_2, col_3, col_4, col_5 = [], [], [], [], []\n",
        "    for row in report[1:]:\n",
        "        if len(row.split()) != 0:\n",
        "            row = row.split()\n",
        "            if len(row) < 5:\n",
        "                col_1.append(row[0])\n",
        "                col_2.append('')\n",
        "                col_3.append('')\n",
        "                col_4.append(row[1])\n",
        "                col_5.append(row[2])\n",
        "            elif len(row) > 5:\n",
        "                col_1.append(row[0] + ' ' + row[1])\n",
        "                col_2.append(row[2])\n",
        "                col_3.append(row[3])\n",
        "                col_4.append(row[4])\n",
        "                col_5.append(row[5])\n",
        "            else:\n",
        "                col_1.append(row[0])\n",
        "                col_2.append(row[1])\n",
        "                col_3.append(row[2])\n",
        "                col_4.append(row[3])\n",
        "                col_5.append(row[4])\n",
        "    result = pd.DataFrame()\n",
        "    col_1.append(\"overall\")\n",
        "    col_2.append(precision_score(y_labels, predictions))\n",
        "    col_3.append(recall_score(y_labels, predictions))\n",
        "    col_4.append(f1_score(y_labels, predictions))\n",
        "    col_5.append(roc_auc_score(y_labels, pred))\n",
        "    result[columns[0]] = col_1\n",
        "    result[columns[1]] = col_2\n",
        "    result[columns[2]] = col_3\n",
        "    result[columns[3]] = col_4\n",
        "    result[columns[4]] = col_5\n",
        "    print(\"——————Test——————\")\n",
        "#     print(result)\n",
        "    return result"
      ],
      "metadata": {
        "id": "h5BCzduNsk7A"
      },
      "execution_count": null,
      "outputs": []
    },
    {
      "cell_type": "code",
      "source": [
        "def training(batch_size, n_epoch, lr, train, valid, model, device, model_name, model_dir=\"./\"):\n",
        "    total = sum(p.numel() for p in model.parameters())\n",
        "    trainable = sum(p.numel() for p in model.parameters() if p.requires_grad)\n",
        "\n",
        "    print(\"\\nstart training, total parameter:{}, trainable:{}\\n\".format(total, trainable))\n",
        "    model.to(device)\n",
        "    model.train()\n",
        "    criterion = nn.BCELoss()\n",
        "    t_batch = len(train)\n",
        "    v_batch = len(valid)\n",
        "    optimizer = optim.Adam(model.parameters(), lr=lr)\n",
        "    best_acc = 0\n",
        "    train_losses, val_losses = [], []\n",
        "    train_acc, val_acc = [], []\n",
        "\n",
        "    for epoch in range(n_epoch):\n",
        "        start_time = time.time()\n",
        "        total_loss, total_acc = 0, 0\n",
        "        pred_label = []\n",
        "        y_label = []\n",
        "        # training\n",
        "        for i, (jobs, users, labels) in enumerate(train):\n",
        "            jobs = jobs.to(device)\n",
        "            users = users.to(torch.float32).to(device)\n",
        "            labels = labels.to(torch.float32).to(device)\n",
        "            model.zero_grad()\n",
        "            outputs = model(jobs, users)\n",
        "            loss = criterion(outputs, labels)\n",
        "            loss.backward()\n",
        "            optimizer.step()\n",
        "            total_loss += loss.item()\n",
        "            pred_label.extend([0 if i<0.5 else 1 for i in list(outputs.detach().cpu().numpy())])\n",
        "            y_label.extend(list(labels.detach().cpu().numpy()))\n",
        "        train_losses.append(total_loss/t_batch)\n",
        "        train_acc.append(accuracy_score(y_label, pred_label))\n",
        "        print('[ Epoch{}: {}/{}] '.format(epoch+1, i+1, t_batch))\n",
        "        print('\\nTrain | Loss:{:.5f} Time:{:.6f}'.format(total_loss/t_batch, time.time()-start_time))\n",
        "\n",
        "        # evaluation\n",
        "        model.eval()\n",
        "        with torch.no_grad():\n",
        "            total_loss, total_acc = 0, 0\n",
        "            pred_label = []\n",
        "            y_label = []\n",
        "            for i, (jobs, users, labels) in enumerate(valid):\n",
        "                jobs = jobs.to(device)\n",
        "                users = users.to(torch.float32).to(device)\n",
        "                labels = labels.to(torch.float32).to(device)\n",
        "                outputs = model(jobs, users)\n",
        "                loss = criterion(outputs, labels)\n",
        "                total_loss += loss.item()\n",
        "                pred_label.extend([0 if i<0.5 else 1 for i in list(outputs.detach().cpu().numpy())])\n",
        "                y_label.extend(list(labels.detach().cpu().numpy()))\n",
        "            val_losses.append(total_loss/v_batch)\n",
        "            total_acc =  accuracy_score(y_label, pred_label)\n",
        "            val_acc.append(total_acc)\n",
        "            print('\\nVal | ACC:{:.5f} Time:{:.6f}'.format(total_acc, time.time()-start_time))\n",
        "            if total_acc > best_acc:\n",
        "                best_acc = total_acc\n",
        "                torch.save(model, \"{}/{}_ckpt.model\".format(model_dir, model_name))\n",
        "                print('save model with acc {:.3f}'.format(total_acc))\n",
        "        print('------------------------------------------------------')\n",
        "        model.train()\n",
        "    return train_losses, val_losses, train_acc, val_acc"
      ],
      "metadata": {
        "id": "D_pgXVfeucTK"
      },
      "execution_count": null,
      "outputs": []
    },
    {
      "cell_type": "markdown",
      "source": [
        "# 7. Train and test the Text-CNN model"
      ],
      "metadata": {
        "id": "cpGaIXGWsoHx"
      }
    },
    {
      "cell_type": "code",
      "source": [
        "embedding"
      ],
      "metadata": {
        "id": "rpxtEOAjq6US"
      },
      "execution_count": null,
      "outputs": []
    },
    {
      "cell_type": "code",
      "source": [
        "train_dataset[0][1].shape[0]"
      ],
      "metadata": {
        "id": "wXlbd49gqlQB"
      },
      "execution_count": null,
      "outputs": []
    },
    {
      "cell_type": "code",
      "source": [
        "fix_embedding = False\n",
        "input_dim = train_dataset[0][1].shape[0]\n",
        "model = PJFNN(embedding, input_dim, dropout=0.7, channels=32, fix_embedding=fix_embedding)\n",
        "# model"
      ],
      "metadata": {
        "id": "XN8iKoLAsm4C"
      },
      "execution_count": null,
      "outputs": []
    },
    {
      "cell_type": "code",
      "source": [
        "epoch = 10\n",
        "lr =  0.0005\n",
        "model_dir = './'\n",
        "device = torch.device(\"cuda\")\n",
        "\n",
        "train_losses, val_losses, train_acc, val_acc = training(batch_size, epoch, lr, train_loader, val_loader, model, device, \"textCNN\",  model_dir )"
      ],
      "metadata": {
        "id": "vAYfcx3osqjQ"
      },
      "execution_count": null,
      "outputs": []
    },
    {
      "cell_type": "code",
      "source": [
        "model = torch.load(\"/content/drive/MyDrive/pfnn/textCNN_ckpt.model\")"
      ],
      "metadata": {
        "id": "cMrxCSheFMDC"
      },
      "execution_count": null,
      "outputs": []
    },
    {
      "cell_type": "markdown",
      "source": [
        "# Perform the ranking tasks"
      ],
      "metadata": {
        "id": "H39jPHbxvYkF"
      }
    },
    {
      "cell_type": "code",
      "source": [
        "import pandas as pd\n",
        "import numpy as np\n",
        "from sklearn.feature_extraction.text import TfidfVectorizer\n",
        "from tqdm import tqdm\n",
        "import random\n",
        "import warnings\n",
        "warnings.filterwarnings(\"ignore\")\n",
        "\n",
        "from sklearn.linear_model import LogisticRegression, LinearRegression\n",
        "from sklearn.metrics import accuracy_score, roc_auc_score, recall_score, precision_score, f1_score, classification_report\n",
        "from sklearn.tree import DecisionTreeClassifier\n",
        "from sklearn.ensemble import RandomForestClassifier, AdaBoostClassifier, GradientBoostingClassifier\n",
        "from sklearn.naive_bayes import GaussianNB"
      ],
      "metadata": {
        "id": "SDpSCsUBvXdz"
      },
      "execution_count": null,
      "outputs": []
    },
    {
      "cell_type": "code",
      "source": [
        "def show_result(y_true, y_prob):\n",
        "    y_prediction = [0 if i<=0.5 else 1 for i in y_prob]\n",
        "    report = classification_report(y_true,y_prediction,digits=4)\n",
        "    report = report.splitlines()\n",
        "    columns = ['class'] + report[0].split()\n",
        "    col_1, col_2, col_3, col_4, col_5 = [], [], [], [], []\n",
        "    for row in report[1:]:\n",
        "        if len(row.split()) != 0:\n",
        "            row = row.split()\n",
        "            if len(row) < 5:\n",
        "                col_1.append(row[0])\n",
        "                col_2.append('')\n",
        "                col_3.append('')\n",
        "                col_4.append(row[1])\n",
        "                col_5.append(row[2])\n",
        "            elif len(row) > 5:\n",
        "                col_1.append(row[0] + ' ' + row[1])\n",
        "                col_2.append(row[2])\n",
        "                col_3.append(row[3])\n",
        "                col_4.append(row[4])\n",
        "                col_5.append(row[5])\n",
        "            else:\n",
        "                col_1.append(row[0])\n",
        "                col_2.append(row[1])\n",
        "                col_3.append(row[2])\n",
        "                col_4.append(row[3])\n",
        "                col_5.append(row[4])\n",
        "    col_1.append(\"overall\")\n",
        "    col_2.append(precision_score(y_true, y_prediction))\n",
        "    col_3.append(recall_score(y_true, y_prediction))\n",
        "    col_4.append(f1_score(y_true, y_prediction))\n",
        "    col_5.append(roc_auc_score(y_true, y_prob))\n",
        "    result = pd.DataFrame()\n",
        "    result[columns[0]] = col_1\n",
        "    result[columns[1]] = col_2\n",
        "    result[columns[2]] = col_3\n",
        "    result[columns[3]] = col_4\n",
        "    result[columns[4]] = col_5\n",
        "    print(\"——————Test——————\")\n",
        "    print(result)"
      ],
      "metadata": {
        "id": "nHXAx6C-vedY"
      },
      "execution_count": null,
      "outputs": []
    },
    {
      "cell_type": "code",
      "source": [
        "user_set = pd.read_csv(\"/content/our_reduced_df.csv\")\n",
        "dataset = pd.read_csv(\"/content/drive/MyDrive/clean data/dataset_cleaned.csv\")\n",
        "work_history = pd.read_csv(\"/content/drive/MyDrive/clean data/work_history_cleaned.csv\")\n",
        "job_set = pd.read_csv(\"/content/drive/MyDrive/clean data/job_set_cleaned.csv\")"
      ],
      "metadata": {
        "id": "ah_7p2HlvvOr"
      },
      "execution_count": null,
      "outputs": []
    },
    {
      "cell_type": "code",
      "source": [
        "X_train = np.load(\"X_train.npy\")\n",
        "Y_train = np.load(\"Y_train.npy\")\n",
        "X_test = np.load(\"X_test.npy\")\n",
        "Y_test = np.load(\"Y_test.npy\")"
      ],
      "metadata": {
        "id": "YoAZB_KQvyiR"
      },
      "execution_count": null,
      "outputs": []
    },
    {
      "cell_type": "code",
      "source": [
        "# about 1 min\n",
        "job_set = job_set.fillna(\" \")\n",
        "job_set[\"word\"] = job_set.Title + job_set.Description + job_set.Requirements\n",
        "tf = TfidfVectorizer(analyzer='word',ngram_range=(1, 2),min_df=5, max_features=100, stop_words='english')\n",
        "tfidf_matrix = tf.fit_transform(job_set['word'])"
      ],
      "metadata": {
        "id": "D0mFvYVOwZga"
      },
      "execution_count": null,
      "outputs": []
    },
    {
      "cell_type": "code",
      "source": [
        "word_history_tf = TfidfVectorizer(analyzer='word',ngram_range=(1, 2),min_df=0, max_features=50, stop_words='english')\n",
        "word_history_tf_matrix = word_history_tf.fit_transform(work_history.groupby(\"UserID\").JobTitle.sum().values)"
      ],
      "metadata": {
        "id": "GSRtI2jbwbhR"
      },
      "execution_count": null,
      "outputs": []
    },
    {
      "cell_type": "code",
      "source": [
        "test_user = user_set[user_set.Split==\"Test\"].UserID.values\n",
        "test_data = dataset[dataset.UserID.isin(test_user)]"
      ],
      "metadata": {
        "id": "gg8ViSgdwd96"
      },
      "execution_count": null,
      "outputs": []
    },
    {
      "cell_type": "code",
      "source": [
        "ranking_data = pd.DataFrame(columns = [\"UserID\",\"JobID\",\"label\", \"City\", \"State\"])\n",
        "job_id = job_set.JobID.unique().tolist()\n",
        "groups = test_data.groupby(\"UserID\")\n",
        "user_ids = []\n",
        "job_ids = []\n",
        "labels = []\n",
        "City = []\n",
        "State = []\n",
        "for idx, group in tqdm(groups):\n",
        "    size = 99\n",
        "    exist_job = group.JobID.unique().tolist()\n",
        "    candidate_job = [i for i in job_id if i not in exist_job ]\n",
        "    sample_job = random.sample(range(0,len(candidate_job)),size)\n",
        "    user_ids.extend([idx] * (size+1))\n",
        "    job_ids.append(exist_job[0])\n",
        "    job_ids.extend([candidate_job[i] for i in sample_job])\n",
        "    labels.append(1)\n",
        "    labels.extend([0] * (size))\n",
        "    City.append(group.City.values[0])\n",
        "    State.append(group.State.values[0])\n",
        "    jobs = job_set[job_set.JobID.isin([candidate_job[i] for i in sample_job])]\n",
        "\n",
        "    City.extend([0 if i!=group.City.values[0] else a for i in jobs.City.values.tolist()])\n",
        "    State.extend([0 if i!=group.State.values[0] else a for i in jobs.State.values.tolist()])\n",
        "\n",
        "ranking_data.UserID = user_ids\n",
        "ranking_data.JobID = job_ids\n",
        "ranking_data.label = labels\n",
        "ranking_data.City = City\n",
        "ranking_data.State = State\n",
        "ranking_data.to_csv(\"ranking_data.csv\",index=False)"
      ],
      "metadata": {
        "id": "2mANEDarwhbc"
      },
      "execution_count": null,
      "outputs": []
    },
    {
      "cell_type": "markdown",
      "source": [
        "# 2. Define the evaluation function"
      ],
      "metadata": {
        "id": "ySqGuE9KwkTq"
      }
    },
    {
      "cell_type": "code",
      "source": [
        "def test_hit_rate(model, N):\n",
        "    hit = 0\n",
        "    groups = ranking_data.groupby(\"UserID\")\n",
        "    for u_id, group in tqdm(groups):\n",
        "        X = np.zeros((1,158))\n",
        "        user = user_set[user_set.UserID==u_id][[\"DegreeType\", \"WorkHistoryCount\", \"TotalYearsExperience\", \"CurrentlyEmployed\",\n",
        "                                                \"ManagedOthers\", \"ManagedHowMany\"]]\n",
        "        u_idx = user.index.values[0]\n",
        "        user_feature = np.concatenate((user.values, word_history_tf_matrix[u_idx,:].toarray()),axis=1)\n",
        "        job_id_list = group.JobID.values\n",
        "        jobs = job_set[job_set.JobID.isin(job_id_list)]\n",
        "        j_idx = jobs.index.values\n",
        "        f = []\n",
        "        for i in j_idx:\n",
        "            feature = np.concatenate((user_feature, tfidf_matrix[i,:].toarray()), axis=1).reshape(156,).tolist()\n",
        "            f.append(feature)\n",
        "        feature = np.concatenate((group[[\"City\",\"State\"]].values, np.array(f)),axis=1)\n",
        "        X = np.concatenate((X, feature), axis=0)\n",
        "        result = model.predict_proba(X[1:])\n",
        "#         result = model.predict(X[1:])\n",
        "        a = -np.sort(-result[:,1])\n",
        "        idx = np.argwhere(a==result[0,1])[0][0]\n",
        "        if idx <= N-1:\n",
        "            hit += 1\n",
        "    return hit/len(test_user)"
      ],
      "metadata": {
        "id": "EwkfSW3lwhgB"
      },
      "execution_count": null,
      "outputs": []
    },
    {
      "cell_type": "markdown",
      "source": [
        "# 3. Test models"
      ],
      "metadata": {
        "id": "xAeV7q7AwouH"
      }
    },
    {
      "cell_type": "code",
      "source": [
        "rf = RandomForestClassifier(random_state=0)\n",
        "rf.fit(X_train,Y_train)\n",
        "y_pred = rf.predict_proba(X_test)\n",
        "show_result(Y_test, y_pred[:,1])"
      ],
      "metadata": {
        "id": "8nAE3oEGwm5s"
      },
      "execution_count": null,
      "outputs": []
    },
    {
      "cell_type": "code",
      "source": [
        "test_hit_rate(rf,1), test_hit_rate(rf,5), test_hit_rate(rf,10), test_hit_rate(rf,20)"
      ],
      "metadata": {
        "id": "bJMzE-w8wsrM"
      },
      "execution_count": null,
      "outputs": []
    },
    {
      "cell_type": "code",
      "source": [
        "def test_hit_rate_linearRegr(model, N):\n",
        "    hit = 0\n",
        "    groups = ranking_data.groupby(\"UserID\")\n",
        "    for u_id, group in tqdm(groups):\n",
        "        X = np.zeros((1,158))\n",
        "        user = user_set[user_set.UserID==u_id][[\"DegreeType\", \"WorkHistoryCount\", \"TotalYearsExperience\", \"CurrentlyEmployed\",\n",
        "                                                \"ManagedOthers\", \"ManagedHowMany\"]]\n",
        "        u_idx = user.index.values[0]\n",
        "        user_feature = np.concatenate((user.values, word_history_tf_matrix[u_idx,:].toarray()),axis=1)\n",
        "        job_id_list = group.JobID.values\n",
        "        jobs = job_set[job_set.JobID.isin(job_id_list)]\n",
        "        j_idx = jobs.index.values\n",
        "        f = []\n",
        "        for i in j_idx:\n",
        "            feature = np.concatenate((user_feature, tfidf_matrix[i,:].toarray()), axis=1).reshape(156,).tolist()\n",
        "            f.append(feature)\n",
        "        feature = np.concatenate((group[[\"City\",\"State\"]].values, np.array(f)),axis=1)\n",
        "        X = np.concatenate((X, feature), axis=0)\n",
        "#         result = model.predict_proba(X[1:])\n",
        "        result = model.predict(X[1:])\n",
        "        a = -np.sort(-result)\n",
        "        idx = np.argwhere(a==result[0])[0][0]\n",
        "        if idx <= N-1:\n",
        "            hit += 1\n",
        "    return hit/len(test_user)\n",
        "linear_r = LinearRegression()\n",
        "linear_r.fit(X_train,Y_train)\n",
        "y_pred = linear_r.predict(X_test)\n",
        "show_result(Y_test, y_pred)"
      ],
      "metadata": {
        "id": "Yw3fCmWBxICo"
      },
      "execution_count": null,
      "outputs": []
    },
    {
      "cell_type": "code",
      "source": [
        "test_hit_rate_linearRegr(linear_r,1), test_hit_rate_linearRegr(linear_r,5), test_hit_rate_linearRegr(linear_r,10), test_hit_rate_linearRegr(linear_r, 20)"
      ],
      "metadata": {
        "id": "aYozUkdtxKdC"
      },
      "execution_count": null,
      "outputs": []
    },
    {
      "cell_type": "markdown",
      "source": [
        "# 8. TopN recommendation"
      ],
      "metadata": {
        "id": "5djj4I4NxUiz"
      }
    },
    {
      "cell_type": "code",
      "source": [
        "job_set = pd.read_csv(\"/content/drive/MyDrive/final/job_set_segment.csv\")"
      ],
      "metadata": {
        "id": "1kwRCJ8vDg8E"
      },
      "execution_count": null,
      "outputs": []
    },
    {
      "cell_type": "code",
      "source": [
        "job_set"
      ],
      "metadata": {
        "id": "G1E5TW2Dx1hv"
      },
      "execution_count": null,
      "outputs": []
    },
    {
      "cell_type": "code",
      "source": [
        "new_row = pd.DataFrame({\n",
        "    'UserID': [1],\n",
        "    'City': ['Martinsville'],\n",
        "    'State': ['VA'],\n",
        "    'DegreeType': [3],\n",
        "    'WorkHistoryCount': [168],\n",
        "    'TotalYearsExperience': [4.583162],\n",
        "    'CurrentlyEmployed': [0],\n",
        "    'ManagedOthers': [0],\n",
        "    'ManagedHowMany': [0],\n",
        "    'Split': ['Train']\n",
        "})\n",
        "\n",
        "# 将新的DataFrame追加到原来的DataFrame上\n",
        "user_set = user_set.append(new_row, ignore_index=True)"
      ],
      "metadata": {
        "id": "TncsLrGi5NDA"
      },
      "execution_count": null,
      "outputs": []
    },
    {
      "cell_type": "code",
      "source": [
        "user_set"
      ],
      "metadata": {
        "id": "Ha3hZ4dUdrNt"
      },
      "execution_count": null,
      "outputs": []
    },
    {
      "cell_type": "code",
      "source": [
        "# 创建新行的数据\n",
        "sentence = 'This is a sentence'\n",
        "words = sentence.split()\n",
        "\n",
        "\n",
        "new_row = {\n",
        "    'JobID': 1,\n",
        "    'word': sentence,\n",
        "    'text': words\n",
        "}\n",
        "\n",
        "job_set.append(new_row, ignore_index=True)"
      ],
      "metadata": {
        "id": "lB-zwRBqEAVb"
      },
      "execution_count": null,
      "outputs": []
    },
    {
      "cell_type": "code",
      "source": [
        "text = []\n",
        "for i in job_set.text:\n",
        "    temp = i[1:-1].split(',')\n",
        "    text.append([t.strip()[1:-1] for t in temp])\n",
        "job_set[\"text\"] = text"
      ],
      "metadata": {
        "id": "-zwWk2rH9u3i"
      },
      "execution_count": null,
      "outputs": []
    },
    {
      "cell_type": "code",
      "source": [
        "job_rank"
      ],
      "metadata": {
        "id": "iyC6R7zNRVAg"
      },
      "execution_count": null,
      "outputs": []
    },
    {
      "cell_type": "code",
      "source": [
        "ranking_data = pd.read_csv(\"ranking_data.csv\")\n",
        "groups = ranking_data.groupby(\"UserID\")\n",
        "\n",
        "\n",
        "job_rank = []\n",
        "user_rank = np.zeros((1,58))\n",
        "for u_id, group in tqdm(groups):\n",
        "    user = user_set[user_set.UserID==u_id][[\"DegreeType\", \"WorkHistoryCount\", \"TotalYearsExperience\", \"CurrentlyEmployed\",\n",
        "                                            \"ManagedOthers\", \"ManagedHowMany\"]]\n",
        "    u_idx = user.index.values[0]\n",
        "    user_feature = np.concatenate((user.values, word_history_tf_matrix[u_idx,:].toarray()),axis=1)\n",
        "    job_id_list = group.JobID.values\n",
        "    jobs = job_set[job_set.JobID.isin(job_id_list)]\n",
        "    job_rank.extend(jobs.text.values.tolist())\n",
        "    user_feature = user_feature.repeat(len(jobs),axis=0)\n",
        "    user_feature = np.concatenate((user_feature,group[[\"State\",\"City\"]].values),axis=1)\n",
        "    user_rank = np.concatenate((user_rank,user_feature), axis=0)"
      ],
      "metadata": {
        "id": "U7wTp84TxUA_"
      },
      "execution_count": null,
      "outputs": []
    },
    {
      "cell_type": "code",
      "source": [
        "ranking_data"
      ],
      "metadata": {
        "id": "idAdV4i7QkC4"
      },
      "execution_count": null,
      "outputs": []
    },
    {
      "cell_type": "code",
      "source": [
        "sen_len = 200\n",
        "preprocess = Preprocess(job_rank, sen_len, w2v_path=\"/content/drive/MyDrive/pfnn/word2vec.model\")\n",
        "embedding = preprocess.make_embedding(load=True)\n",
        "rank_x = preprocess.sentence_word2idx()"
      ],
      "metadata": {
        "id": "Jr78oqCIyf8w"
      },
      "execution_count": null,
      "outputs": []
    },
    {
      "cell_type": "code",
      "source": [
        "user_rank.dtype"
      ],
      "metadata": {
        "id": "oNkYt20ybIB9"
      },
      "execution_count": null,
      "outputs": []
    },
    {
      "cell_type": "code",
      "source": [
        "rank_x.dtype"
      ],
      "metadata": {
        "id": "pftCP7H6bNAO"
      },
      "execution_count": null,
      "outputs": []
    },
    {
      "cell_type": "code",
      "source": [
        "rank_dataset = JobUserDataset(rank_x, user_rank, None)\n",
        "rank_loader = DataLoader(dataset= rank_dataset, batch_size = 100, shuffle = False)"
      ],
      "metadata": {
        "id": "KhaHJ2TQxn56"
      },
      "execution_count": null,
      "outputs": []
    },
    {
      "cell_type": "code",
      "source": [
        "def test_hit_rate(model,N,num_user):\n",
        "  hit = 0\n",
        "  model.eval()\n",
        "  for jobs, users in rank_loader:\n",
        "    jobs = jobs.to(device)\n",
        "    users = users.to(torch.float32)\n",
        "    users = users.to(device)\n",
        "    outputs = model(jobs, users)\n",
        "    pred = outputs.cpu().detach().numpy()\n",
        "    a = -np.sort(-pred)\n",
        "    idx = np.argwhere(a==pred[0])[0][0]\n",
        "    if idx <= N-1:\n",
        "        hit += 1\n",
        "  return hit/num_user"
      ],
      "metadata": {
        "id": "2-kCQVSDy5jq"
      },
      "execution_count": null,
      "outputs": []
    },
    {
      "cell_type": "code",
      "source": [
        "rank_dataset[1]"
      ],
      "metadata": {
        "id": "4vk1kCsKr5T7"
      },
      "execution_count": null,
      "outputs": []
    },
    {
      "cell_type": "code",
      "source": [
        "num_user = len(ranking_data.UserID.unique())\n",
        "m = torch.load(\"/content/drive/MyDrive/pfnn/textCNN_ckpt.model\")"
      ],
      "metadata": {
        "id": "DAwsdEFvy8i2"
      },
      "execution_count": null,
      "outputs": []
    },
    {
      "cell_type": "code",
      "source": [
        "print(m)"
      ],
      "metadata": {
        "id": "H_eey49aP24J"
      },
      "execution_count": null,
      "outputs": []
    },
    {
      "cell_type": "code",
      "source": [
        "device = torch.device(\"cuda\")"
      ],
      "metadata": {
        "id": "oOfMOUfMzHpv"
      },
      "execution_count": null,
      "outputs": []
    },
    {
      "cell_type": "code",
      "source": [
        "test_hit_rate(m, 1, num_user)"
      ],
      "metadata": {
        "id": "Ay8oCHXXy-P0"
      },
      "execution_count": null,
      "outputs": []
    }
  ]
}